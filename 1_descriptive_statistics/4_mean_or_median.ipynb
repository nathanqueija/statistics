{
 "cells": [
  {
   "cell_type": "markdown",
   "id": "c3fa7cd5",
   "metadata": {},
   "source": [
    "# Mean or Median?\n",
    "\n",
    "Mean and Median are measures of center, i. e., they tell us where is the center of our data, but if they thell us the same thing what's the difference? Why do we have two different measures of center and which one should be used?\n",
    "\n",
    "As everything in life, it depends 😅\n",
    "\n",
    "In order to understand the difference let's use the following dataset that represents the grades of a statistics student for the course of a year. The grades range from 0 to 10:\n",
    "\n",
    "`[9, 10, 8, 9, 10, 9.8, 10, 9.4, 10, 9.7]`\n",
    "\n",
    "Let's say that by the end of the year we want to calcuate a summary score that tells us in one number how the student performed the whole year. \n",
    "The mean can help us here."
   ]
  },
  {
   "cell_type": "code",
   "execution_count": 9,
   "id": "f88ed1ea",
   "metadata": {
    "scrolled": true
   },
   "outputs": [
    {
     "name": "stdout",
     "output_type": "stream",
     "text": [
      "The mean grade for this student is: 9.5\n"
     ]
    }
   ],
   "source": [
    "import numpy as np\n",
    "grades = [9, 10, 8, 9, 10, 9.8, 10, 9.4, 10, 9.7]\n",
    "mean = np.mean(grades)\n",
    "print(f\"The mean grade for this student is: {round(mean, 1)}\")"
   ]
  },
  {
   "cell_type": "markdown",
   "id": "dd2b2305",
   "metadata": {},
   "source": [
    "The mean seems to be very consistent with the performance of this student through the year doesn't it? Let's calculate the median now."
   ]
  },
  {
   "cell_type": "code",
   "execution_count": 14,
   "id": "f34b3162",
   "metadata": {
    "scrolled": true
   },
   "outputs": [
    {
     "name": "stdout",
     "output_type": "stream",
     "text": [
      "The median for this student's grades is: 9.7\n"
     ]
    }
   ],
   "source": [
    "median = np.median(grades)\n",
    "print(f\"The median for this student's grades is: {round(median, 1)}\")"
   ]
  },
  {
   "cell_type": "markdown",
   "id": "a15018cf",
   "metadata": {},
   "source": [
    "Also very consistent and close to the mean. So now, what's the point of having two different measures of center?\n",
    "\n",
    "Let's imagine this situation: this student took the final exam last week and unfortunately because of a personal stressful situation it was very difficult to concentrate and the grade for the final exam was `0`.\n",
    "\n",
    "![Alt Text](https://media.giphy.com/media/d2lcHJTG5Tscg/giphy.gif)\n",
    "\n",
    "Let's now add this final grade to our dataset and calculate the mean again:"
   ]
  },
  {
   "cell_type": "code",
   "execution_count": 12,
   "id": "6adaf1ed",
   "metadata": {},
   "outputs": [
    {
     "name": "stdout",
     "output_type": "stream",
     "text": [
      "The mean grade for this student is: 8.6\n"
     ]
    }
   ],
   "source": [
    "grades = [9, 10, 8, 9, 10, 9.8, 10, 9.4, 10, 9.7, 0]\n",
    "mean = np.mean(grades)\n",
    "print(f\"The mean grade for this student is: {round(mean, 1)}\")"
   ]
  },
  {
   "cell_type": "markdown",
   "id": "c7298ada",
   "metadata": {},
   "source": [
    "Is it fair to say that the yearly performance of this student is `8.6` when we look at all grades? Most of the grades were close to `10`.\n",
    "Let's take a look at the median:"
   ]
  },
  {
   "cell_type": "code",
   "execution_count": 15,
   "id": "6fda892d",
   "metadata": {},
   "outputs": [
    {
     "name": "stdout",
     "output_type": "stream",
     "text": [
      "The median for this student's grades is: 9.7\n"
     ]
    }
   ],
   "source": [
    "median = np.median(grades)\n",
    "print(f\"The median for this student's grades is: {round(median, 1)}\")"
   ]
  },
  {
   "cell_type": "markdown",
   "id": "5dfeb288",
   "metadata": {},
   "source": [
    "The median is much close to the actual performance of this student when we consider all the grades. So, what's the point?\n",
    "\n",
    "### The mean is sensitive toward outliers\n",
    "An outlier is an observation or a value, in this case is a grade, that lies an abnormal distance from other values. It means that even though this student performed very well, one outlier dragged the average grade down and I think it's not fair in this case. The same would happen for a student that haven't performed the whole year, but for some reason get good results in the final exams. Should we consider that this student is a dedicated one?\n",
    "\n",
    "As said, the measure that you're gonna use depends on what you want to know about the data. Does it make sense to include outliers or not? Your goal will tell you.\n",
    "\n",
    "In this case if we're measuring the performance of a student for the year I think the median represents better the whole data.\n",
    "Maybe the outlier was even a mistake of teacher when sharing the grades.\n",
    "This is something that needs to be considered in every case.\n",
    "\n",
    "### When to consider outliers in your analysis?\n",
    "It depends on your goal and what conclusion you want to derive from the data. You can ask yourself if in a given situation considering outliers is important or not. Let's say that this school wants to run an experiment to find anomalies in the students grades, for example, to find students that for some reason stopped performing in a consistent way. Maybe considering the outliers would be beneficial to reach the conclusions in this case.\n",
    "\n",
    "To sum up, don't add or remove outliers (or use the mean or median) without thinking about what is your goal. Understand your data. Your data has different ways to tell you stories, it's up to you to understand which story is more important to you in a given situation.\n",
    "\n",
    "And oh, the teachers realised that something happened with the student and gave him a chance to do the test again. His score was `10`. All good in Statsland!\n",
    "\n",
    "\n",
    "![Alt Text](https://media.giphy.com/media/cl27Mh8srUEog5GtUR/giphy.gif)\n"
   ]
  },
  {
   "cell_type": "markdown",
   "id": "98f45300",
   "metadata": {},
   "source": [
    "## 📒 Notebook\n",
    "The link for the notebook can be found [here](https://github.com/nathanqueija/statistics/blob/master/1_descriptive_statistics/3_mode.ipynb)"
   ]
  }
 ],
 "metadata": {
  "kernelspec": {
   "display_name": "Python 3",
   "language": "python",
   "name": "python3"
  },
  "language_info": {
   "codemirror_mode": {
    "name": "ipython",
    "version": 3
   },
   "file_extension": ".py",
   "mimetype": "text/x-python",
   "name": "python",
   "nbconvert_exporter": "python",
   "pygments_lexer": "ipython3",
   "version": "3.9.4"
  }
 },
 "nbformat": 4,
 "nbformat_minor": 5
}
