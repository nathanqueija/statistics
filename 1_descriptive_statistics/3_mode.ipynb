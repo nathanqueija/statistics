{
 "cells": [
  {
   "cell_type": "markdown",
   "id": "c3fa7cd5",
   "metadata": {},
   "source": [
    "# Mode\n",
    "\n",
    "In order to calculate the mode we need to know the number of ocurrences of a datapoint in a dataset.\n",
    "\n",
    "`[9, 5, 8, 10, 7, 8]`\n",
    "\n",
    "Imagine that this dataset represents the grades of all the students in a class of statistics. The grades can range from 0 to 10.\n",
    "\n",
    "We want to know the numbers that occurs most frequent in the dataset.\n",
    "\n",
    "| Number | Occurrences |\n",
    "|--------|-------------|\n",
    "| 9      | 1           |\n",
    "| 5      | 1           |\n",
    "| 7      | 1           |\n",
    "| 8      | 2           |\n",
    "| 10     | 1           |\n",
    "\n",
    "\n",
    "\n",
    "The number 8 is the most frequent number in the dataset therefore it is the mode.\n",
    "\n",
    "What is we had more than one value with the same number of occurrences in a data set?\n",
    "\n",
    "`[9, 5, 8, 10, 7, 7, 8]`\n",
    "\n",
    "| Number | Occurrences |\n",
    "|--------|-------------|\n",
    "| 9      | 1           |\n",
    "| 5      | 1           |\n",
    "| 7      | 2           |\n",
    "| 8      | 2           |\n",
    "| 10     | 1           |\n",
    "\n",
    "We could either say that the dataset has no mode or that it is bi-modal, i.e., it has two modes: 7 and 8.\n",
    "\n",
    "If there are more than 2 modes usually we say that the dataset has no mode because we want to have a clear mode that summarizes our dataset. Of course it depends on the purpose of each data analysis, but the purpose of the mode is to give a clear indicator of what is the most frequent value in a dataset. \n",
    "\n",
    "\n",
    "\n",
    "## 🐍 Python"
   ]
  },
  {
   "cell_type": "code",
   "execution_count": 12,
   "id": "f88ed1ea",
   "metadata": {},
   "outputs": [
    {
     "name": "stdout",
     "output_type": "stream",
     "text": [
      "Counter({10: 2, 9: 1, 5: 1, 8: 1, 7: 1})\n",
      "The mode for the dataset is: 10\n"
     ]
    }
   ],
   "source": [
    "from collections import Counter\n",
    "dataset = [9,5,8,10,7,10]\n",
    "frequencies = Counter(dataset)\n",
    "print(frequencies)\n",
    "print(f\"The mode for the dataset is: {frequencies.most_common(1)[0][0]}\")"
   ]
  },
  {
   "cell_type": "markdown",
   "id": "d4f1d260",
   "metadata": {},
   "source": [
    "## 📚 Libraries"
   ]
  },
  {
   "cell_type": "code",
   "execution_count": 13,
   "id": "a780d801",
   "metadata": {},
   "outputs": [
    {
     "ename": "AttributeError",
     "evalue": "module 'numpy' has no attribute 'mode'",
     "output_type": "error",
     "traceback": [
      "\u001b[0;31m---------------------------------------------------------------------------\u001b[0m",
      "\u001b[0;31mAttributeError\u001b[0m                            Traceback (most recent call last)",
      "\u001b[0;32m<ipython-input-13-221b435efde1>\u001b[0m in \u001b[0;36m<module>\u001b[0;34m\u001b[0m\n\u001b[1;32m      1\u001b[0m \u001b[0;32mimport\u001b[0m \u001b[0mnumpy\u001b[0m \u001b[0;32mas\u001b[0m \u001b[0mnp\u001b[0m\u001b[0;34m\u001b[0m\u001b[0;34m\u001b[0m\u001b[0m\n\u001b[1;32m      2\u001b[0m \u001b[0mdataset\u001b[0m \u001b[0;34m=\u001b[0m \u001b[0;34m[\u001b[0m\u001b[0;36m9\u001b[0m\u001b[0;34m,\u001b[0m\u001b[0;36m5\u001b[0m\u001b[0;34m,\u001b[0m\u001b[0;36m8\u001b[0m\u001b[0;34m,\u001b[0m\u001b[0;36m10\u001b[0m\u001b[0;34m,\u001b[0m\u001b[0;36m7\u001b[0m\u001b[0;34m,\u001b[0m\u001b[0;36m10\u001b[0m\u001b[0;34m]\u001b[0m\u001b[0;34m\u001b[0m\u001b[0;34m\u001b[0m\u001b[0m\n\u001b[0;32m----> 3\u001b[0;31m \u001b[0mprint\u001b[0m\u001b[0;34m(\u001b[0m\u001b[0;34mf\"The mode for the dateset is: {np.mode(dataset)}\"\u001b[0m\u001b[0;34m)\u001b[0m\u001b[0;34m\u001b[0m\u001b[0;34m\u001b[0m\u001b[0m\n\u001b[0m",
      "\u001b[0;32m~/opt/miniconda3/envs/base-env/lib/python3.9/site-packages/numpy/__init__.py\u001b[0m in \u001b[0;36m__getattr__\u001b[0;34m(attr)\u001b[0m\n\u001b[1;32m    301\u001b[0m                 \u001b[0;32mreturn\u001b[0m \u001b[0mTester\u001b[0m\u001b[0;34m\u001b[0m\u001b[0;34m\u001b[0m\u001b[0m\n\u001b[1;32m    302\u001b[0m \u001b[0;34m\u001b[0m\u001b[0m\n\u001b[0;32m--> 303\u001b[0;31m             raise AttributeError(\"module {!r} has no attribute \"\n\u001b[0m\u001b[1;32m    304\u001b[0m                                  \"{!r}\".format(__name__, attr))\n\u001b[1;32m    305\u001b[0m \u001b[0;34m\u001b[0m\u001b[0m\n",
      "\u001b[0;31mAttributeError\u001b[0m: module 'numpy' has no attribute 'mode'"
     ]
    }
   ],
   "source": [
    "import numpy as np\n",
    "dataset = [9,5,8,10,7,10]\n",
    "print(f\"The mode for the dateset is: {np.mode(dataset)}\")"
   ]
  },
  {
   "cell_type": "markdown",
   "id": "98f45300",
   "metadata": {},
   "source": [
    "## 📒 Notebook\n",
    "The link for the notebook can be found [here](https://github.com/nathanqueija/statistics/blob/master/1_descriptive_statistics/2_median.ipynb)"
   ]
  }
 ],
 "metadata": {
  "kernelspec": {
   "display_name": "Python 3",
   "language": "python",
   "name": "python3"
  },
  "language_info": {
   "codemirror_mode": {
    "name": "ipython",
    "version": 3
   },
   "file_extension": ".py",
   "mimetype": "text/x-python",
   "name": "python",
   "nbconvert_exporter": "python",
   "pygments_lexer": "ipython3",
   "version": "3.9.4"
  }
 },
 "nbformat": 4,
 "nbformat_minor": 5
}
