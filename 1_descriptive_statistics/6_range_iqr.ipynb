{
 "cells": [
  {
   "cell_type": "markdown",
   "id": "c3fa7cd5",
   "metadata": {},
   "source": [
    "# Range and Inter Quartile Range\n",
    "\n",
    "In descriptive statistics there are measures that tell us how spread a dataset is. They are known as measures of spread or measures of dispersion.\n",
    "\n",
    "Today I want to talk about the range and the for Inter Quartile Range aka IQR.\n",
    "\n",
    "## Range\n",
    "The range tells us the range betwwen the maximum value and the minimum value of a dataset.\n",
    "\n",
    "Let's use this dataset for our analysis:\n",
    "\n",
    "`[37, 95, 73, 59, 15, 15,  5, 86, 60, 70]`\n",
    "\n",
    "## 🐍 Python"
   ]
  },
  {
   "cell_type": "code",
   "execution_count": 103,
   "id": "93d4a3eb",
   "metadata": {},
   "outputs": [
    {
     "name": "stdout",
     "output_type": "stream",
     "text": [
      "The range for the given dataset is: 90 units\n"
     ]
    }
   ],
   "source": [
    "import numpy as np\n",
    "np.random.seed(42)\n",
    "dataset = list((np.random.random(size=10) * 100).astype(int))\n",
    "max_val = max(dataset)\n",
    "min_val = min(dataset)\n",
    "range = max_val - min_val\n",
    "print(f\"The range for the given dataset is: {range} units\")"
   ]
  },
  {
   "cell_type": "markdown",
   "id": "1f4af3f3",
   "metadata": {},
   "source": [
    "## 📚 Libraries"
   ]
  },
  {
   "cell_type": "code",
   "execution_count": 104,
   "id": "f88ed1ea",
   "metadata": {
    "scrolled": true
   },
   "outputs": [
    {
     "name": "stdout",
     "output_type": "stream",
     "text": [
      "The range for the given dataset is: 90 units\n"
     ]
    }
   ],
   "source": [
    "range = np.ptp(dataset)\n",
    "print(f\"The range for the given dataset is: {range} units\")"
   ]
  },
  {
   "cell_type": "markdown",
   "id": "816366e0",
   "metadata": {},
   "source": [
    "## Inter Quartile Range\n",
    "\n",
    "While the range tells us where is the beginning and end of our dataset the IQR is also a measure of dispersion that tells us where the bulk of the values lie.\n",
    "To calculate the IQR we need to find the diffrence betwwen thr 75h percentile and the 25th percentiles.\n",
    "\n",
    "\n",
    "$ IQR = Q_{3} −  Q_{1} $\n",
    "\n",
    "\n",
    "### When the dataset has an odd numbers of data points\n",
    "\n",
    "1. Order the dataset\n",
    "2. Find the median\n",
    "3. Split the dataset in two halves around the median\n",
    "4. Find the median of the lower half = Q1\n",
    "4. Find the median of the upper half = Q3\n",
    "5. Subtract Q3 from Q1\n"
   ]
  },
  {
   "cell_type": "markdown",
   "id": "b51e6da2",
   "metadata": {},
   "source": [
    "## 🐍 Python"
   ]
  },
  {
   "cell_type": "code",
   "execution_count": 93,
   "id": "39c77ffb",
   "metadata": {
    "scrolled": true
   },
   "outputs": [
    {
     "name": "stdout",
     "output_type": "stream",
     "text": [
      "The IQR for the given dataset is: 56.5\n"
     ]
    }
   ],
   "source": [
    "np.random.seed(42)\n",
    "dataset_odd = (np.random.random(size=11) * 100).astype(int)\n",
    "\n",
    "# 1. Order the dataset\n",
    "dataset_odd = np.sort(dataset_odd)\n",
    "\n",
    "# 2. Find the median\n",
    "median = np.median(dataset_odd)\n",
    "\n",
    "# 3. Split the dataset in two halves around the median\n",
    "half = int(dataset_odd.size / 2)\n",
    "\n",
    "lower_half = dataset_odd[:half]\n",
    "upper_half = dataset_odd[half:]\n",
    "\n",
    "# Find the median of the lower half = Q1\n",
    "median_lower_half = np.median(lower_half)\n",
    "\n",
    "# Find the median of the upper half = Q3\n",
    "median_upper_half = np.median(upper_half)\n",
    "\n",
    "# Subtract Q3 from Q1\n",
    "iqr = median_upper_half - median_lower_half\n",
    "\n",
    "print(f\"The IQR for the given dataset is: {iqr}\")"
   ]
  },
  {
   "cell_type": "markdown",
   "id": "d1638dae",
   "metadata": {},
   "source": [
    "### When the dataset has an even numbers of data points\n",
    "\n",
    "1. Order the dataset\n",
    "3. Split the dataset in two halves\n",
    "4. Find the median of the lower half = Q1\n",
    "4. Find the median of the upper half = Q3\n",
    "5. Subtract Q3 from Q1"
   ]
  },
  {
   "cell_type": "code",
   "execution_count": 100,
   "id": "8ac77308",
   "metadata": {
    "scrolled": true
   },
   "outputs": [
    {
     "name": "stdout",
     "output_type": "stream",
     "text": [
      "The IQR for the given dataset is: 58.0\n"
     ]
    }
   ],
   "source": [
    "np.random.seed(42)\n",
    "dataset_even = (np.random.random(size=10) * 100).astype(int)\n",
    "\n",
    "# 1. Order the dataset\n",
    "dataset_even = np.sort(dataset_even)\n",
    "\n",
    "\n",
    "# 2. Split the dataset in two halves\n",
    "half = int(dataset_even.size / 2)\n",
    "\n",
    "lower_half = dataset_even[:half]\n",
    "upper_half = dataset_even[half:]\n",
    "\n",
    "# 3. Find the median of the lower half = Q1\n",
    "median_lower_half = np.median(lower_half)\n",
    "\n",
    "# 4. Find the median of the upper half = Q3\n",
    "median_upper_half = np.median(upper_half)\n",
    "\n",
    "\n",
    "# 4. Subtract Q3 from Q1\n",
    "iqr = median_upper_half - median_lower_half\n",
    "\n",
    "print(f\"The IQR for the given dataset is: {iqr}\")"
   ]
  },
  {
   "cell_type": "markdown",
   "id": "57046d3f",
   "metadata": {},
   "source": [
    "## 📚 Libraries"
   ]
  },
  {
   "cell_type": "code",
   "execution_count": 101,
   "id": "b19fe323",
   "metadata": {
    "scrolled": true
   },
   "outputs": [
    {
     "name": "stdout",
     "output_type": "stream",
     "text": [
      "The IQR for the given dataset is: 51.75\n"
     ]
    }
   ],
   "source": [
    "np.random.seed(42)\n",
    "dataset = (np.random.random(size=10) * 100).astype(int)\n",
    "\n",
    "q3 = np.percentile(dataset,75)\n",
    "q1 = np.percentile(dataset,25)\n",
    "iqr = q3 - q1\n",
    "\n",
    "print(f\"The IQR for the given dataset is: {iqr}\")"
   ]
  },
  {
   "cell_type": "markdown",
   "id": "1d92d20f",
   "metadata": {},
   "source": [
    "Even easier with Scipy"
   ]
  },
  {
   "cell_type": "code",
   "execution_count": 102,
   "id": "c24b9d2f",
   "metadata": {},
   "outputs": [
    {
     "name": "stdout",
     "output_type": "stream",
     "text": [
      "The IQR for the given dataset is: 51.75\n"
     ]
    }
   ],
   "source": [
    "from scipy.stats import iqr\n",
    "print(f\"The IQR for the given dataset is: {iqr(dataset)}\")"
   ]
  },
  {
   "cell_type": "markdown",
   "id": "98f45300",
   "metadata": {},
   "source": [
    "## 📒 Notebook\n",
    "The link for the notebook can be found [here](https://github.com/nathanqueija/statistics/blob/master/1_descriptive_statistics/5_data_skewness.ipynb)"
   ]
  }
 ],
 "metadata": {
  "kernelspec": {
   "display_name": "Python 3",
   "language": "python",
   "name": "python3"
  },
  "language_info": {
   "codemirror_mode": {
    "name": "ipython",
    "version": 3
   },
   "file_extension": ".py",
   "mimetype": "text/x-python",
   "name": "python",
   "nbconvert_exporter": "python",
   "pygments_lexer": "ipython3",
   "version": "3.9.4"
  }
 },
 "nbformat": 4,
 "nbformat_minor": 5
}
