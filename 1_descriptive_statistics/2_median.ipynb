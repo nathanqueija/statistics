{
 "cells": [
  {
   "cell_type": "markdown",
   "id": "c3fa7cd5",
   "metadata": {},
   "source": [
    "# Median\n",
    "\n",
    "Mean, similar to the mean, is also a measure of central tendency and it's purpose is to understand where is the center of the data.\n",
    "    \n",
    "In order to illustrate the concept of mean I'll use the following dataset:\n",
    "\n",
    "`[9, 5, 8, 10, 7]`\n",
    "\n",
    "Imagine that this dataset represents the grades of all the students in a class of statistics. The grades can range from 0 to 10.\n",
    "\n",
    "To calculate the median we need:\n",
    "\n",
    "1. Sort the dataset = `[5, 7, 8, 9, 10]`\n",
    "2. We now have to find the number that is exactly in the middle: 8 is the median\n",
    "\n",
    "But what if the dataset had an even number of datapoints? For example:\n",
    "\n",
    "`[5, 7, 8, 9, 9, 10]`\n",
    "\n",
    "What is the median in this case?\n",
    "\n",
    "1. Find the two numbers in the middle, or split the dataset in the middle. The two numbers we're looking for will be the ones that are on the edges of each half\n",
    "\n",
    "Half 1: `[5, 7, 8]` & Half 2: `[9, 9, 10]`\n",
    "\n",
    "The two numbers we're looking for in this case are 8 an 9\n",
    "\n",
    "2. Calculate the mean of the two numbers in the middle\n",
    "\n",
    "(8 + 9) / 2 = 8.5 is the median\n",
    "\n",
    "\n",
    "## 🐍 Python"
   ]
  },
  {
   "cell_type": "code",
   "execution_count": 4,
   "id": "f88ed1ea",
   "metadata": {},
   "outputs": [
    {
     "ename": "TypeError",
     "evalue": "object of type 'NoneType' has no len()",
     "output_type": "error",
     "traceback": [
      "\u001b[0;31m---------------------------------------------------------------------------\u001b[0m",
      "\u001b[0;31mTypeError\u001b[0m                                 Traceback (most recent call last)",
      "\u001b[0;32m<ipython-input-4-4926fc71295c>\u001b[0m in \u001b[0;36m<module>\u001b[0;34m\u001b[0m\n\u001b[1;32m      1\u001b[0m \u001b[0mdataset_odd\u001b[0m \u001b[0;34m=\u001b[0m \u001b[0;34m[\u001b[0m\u001b[0;36m9\u001b[0m\u001b[0;34m,\u001b[0m\u001b[0;36m5\u001b[0m\u001b[0;34m,\u001b[0m\u001b[0;36m8\u001b[0m\u001b[0;34m,\u001b[0m\u001b[0;36m10\u001b[0m\u001b[0;34m,\u001b[0m\u001b[0;36m7\u001b[0m\u001b[0;34m]\u001b[0m\u001b[0;34m\u001b[0m\u001b[0;34m\u001b[0m\u001b[0m\n\u001b[1;32m      2\u001b[0m \u001b[0mdataset_odd_sorted\u001b[0m \u001b[0;34m=\u001b[0m \u001b[0mdataset_odd\u001b[0m\u001b[0;34m.\u001b[0m\u001b[0msort\u001b[0m\u001b[0;34m(\u001b[0m\u001b[0;34m)\u001b[0m\u001b[0;34m\u001b[0m\u001b[0;34m\u001b[0m\u001b[0m\n\u001b[0;32m----> 3\u001b[0;31m \u001b[0melement_middle\u001b[0m \u001b[0;34m=\u001b[0m \u001b[0mdataset_odd_sorted\u001b[0m\u001b[0;34m[\u001b[0m\u001b[0mint\u001b[0m\u001b[0;34m(\u001b[0m\u001b[0mlen\u001b[0m\u001b[0;34m(\u001b[0m\u001b[0mdataset_odd_sorted\u001b[0m\u001b[0;34m)\u001b[0m\u001b[0;34m/\u001b[0m\u001b[0;36m2\u001b[0m\u001b[0;34m)\u001b[0m\u001b[0;34m]\u001b[0m\u001b[0;34m\u001b[0m\u001b[0;34m\u001b[0m\u001b[0m\n\u001b[0m\u001b[1;32m      4\u001b[0m \u001b[0mprint\u001b[0m\u001b[0;34m(\u001b[0m\u001b[0;34mf\"The median for this class is: {element_middle}\"\u001b[0m\u001b[0;34m)\u001b[0m\u001b[0;34m\u001b[0m\u001b[0;34m\u001b[0m\u001b[0m\n",
      "\u001b[0;31mTypeError\u001b[0m: object of type 'NoneType' has no len()"
     ]
    }
   ],
   "source": [
    "dataset_odd = [9,5,8,10,7]\n",
    "dataset_odd_sorted = dataset_odd.sort()\n",
    "element_middle = dataset_odd_sorted[int(len(dataset_odd_sorted)/2)]\n",
    "print(f\"The median for this class is: {element_middle}\")"
   ]
  },
  {
   "cell_type": "markdown",
   "id": "d4f1d260",
   "metadata": {},
   "source": [
    "## 📚 Libraries"
   ]
  },
  {
   "cell_type": "code",
   "execution_count": 14,
   "id": "a780d801",
   "metadata": {},
   "outputs": [
    {
     "name": "stdout",
     "output_type": "stream",
     "text": [
      "The mean or the average grade for this class is: 7.8\n"
     ]
    }
   ],
   "source": [
    "import numpy as np\n",
    "mean_np = np.mean(dataset)\n",
    "print(f\"The mean or the average grade for this class is: {mean_np}\")"
   ]
  },
  {
   "cell_type": "markdown",
   "id": "98f45300",
   "metadata": {},
   "source": [
    "## 📒 Notebook\n",
    "The link for the notebook can be found [here](https://github.com/nathanqueija/statistics/blob/master/1_descriptive_statistics/1_mean.ipynb)"
   ]
  }
 ],
 "metadata": {
  "kernelspec": {
   "display_name": "Python 3",
   "language": "python",
   "name": "python3"
  },
  "language_info": {
   "codemirror_mode": {
    "name": "ipython",
    "version": 3
   },
   "file_extension": ".py",
   "mimetype": "text/x-python",
   "name": "python",
   "nbconvert_exporter": "python",
   "pygments_lexer": "ipython3",
   "version": "3.9.4"
  }
 },
 "nbformat": 4,
 "nbformat_minor": 5
}
