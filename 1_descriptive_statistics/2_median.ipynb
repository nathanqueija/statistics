{
 "cells": [
  {
   "cell_type": "markdown",
   "id": "c3fa7cd5",
   "metadata": {},
   "source": [
    "# Median\n",
    "\n",
    "Mean, similar to the mean, is also a measure of central tendency and it's purpose is to understand where is the center of the data.\n",
    "    \n",
    "In order to illustrate the concept of mean I'll use the following dataset:\n",
    "\n",
    "`[9, 5, 8, 10, 7]`\n",
    "\n",
    "Imagine that this dataset represents the grades of all the students in a class of statistics. The grades can range from 0 to 10.\n",
    "\n",
    "To calculate the median we need:\n",
    "\n",
    "1. Sort the dataset = `[5, 7, 8, 9, 10]`\n",
    "2. We now have to find the number that is exactly in the middle: 8 is the median\n",
    "\n",
    "But what if the dataset had an even number of datapoints? For example:\n",
    "\n",
    "`[5, 7, 8, 9, 9, 10]`\n",
    "\n",
    "What is the median in this case?\n",
    "\n",
    "1. Find the two numbers in the middle, or split the dataset in the middle. The two numbers we're looking for will be the ones that are on the edges of each half\n",
    "\n",
    "Half 1: `[5, 7, 8]` & Half 2: `[9, 9, 10]`\n",
    "\n",
    "The two numbers we're looking for in this case are 8 an 9\n",
    "\n",
    "2. Calculate the mean of the two numbers in the middle\n",
    "\n",
    "(8 + 9) / 2 = 8.5 is the median\n",
    "\n",
    "\n",
    "## 🐍 Python"
   ]
  },
  {
   "cell_type": "code",
   "execution_count": 17,
   "id": "f88ed1ea",
   "metadata": {},
   "outputs": [
    {
     "name": "stdout",
     "output_type": "stream",
     "text": [
      "The median for this class is: 8\n"
     ]
    }
   ],
   "source": [
    "dataset_odd = [9,5,8,10,7]\n",
    "dataset_odd.sort()\n",
    "idx_element_middle = int(len(dataset_odd)/2)\n",
    "element_middle = dataset_odd[idx_element_middle]\n",
    "print(f\"The median for this class is: {element_middle}\")"
   ]
  },
  {
   "cell_type": "code",
   "execution_count": 18,
   "id": "e05309f0",
   "metadata": {
    "scrolled": true
   },
   "outputs": [
    {
     "name": "stdout",
     "output_type": "stream",
     "text": [
      "The median for this class is: 8.5\n"
     ]
    }
   ],
   "source": [
    "dataset_even = [9,5,8,10,7,9]\n",
    "dataset_even.sort()\n",
    "idx_element_middle_left_half = int((len(dataset_even) / 2) - 1)\n",
    "idx_element_middle_right_half = int(len(dataset_even) / 2)\n",
    "mean_of_center_elements = (dataset_even[idx_element_middle_left_half] + dataset_even[idx_element_middle_right_half]) / 2\n",
    "print(f\"The median for this class is: {mean_of_center_elements}\")"
   ]
  },
  {
   "cell_type": "markdown",
   "id": "3ae16617",
   "metadata": {},
   "source": [
    "We got the same results shown in the explanation section above. Now that we understand how to calculate the median we can use Numpy that will male our lifes much easier so we can focus on our work."
   ]
  },
  {
   "cell_type": "markdown",
   "id": "d4f1d260",
   "metadata": {},
   "source": [
    "## 📚 Libraries"
   ]
  },
  {
   "cell_type": "code",
   "execution_count": 20,
   "id": "a780d801",
   "metadata": {},
   "outputs": [
    {
     "name": "stdout",
     "output_type": "stream",
     "text": [
      "The median for this class is: 8.0\n",
      "The median for this class is: 8.5\n"
     ]
    }
   ],
   "source": [
    "import numpy as np\n",
    "dataset_odd_np = [9,5,8,10,7]\n",
    "dataset_even_np = [9,5,8,10,7,9]\n",
    "print(f\"The median for this class is: {np.median(dataset_odd_np)}\")\n",
    "print(f\"The median for this class is: {np.median(dataset_even_np)}\")"
   ]
  },
  {
   "cell_type": "markdown",
   "id": "98f45300",
   "metadata": {},
   "source": [
    "## 📒 Notebook\n",
    "The link for the notebook can be found [here](https://github.com/nathanqueija/statistics/blob/master/1_descriptive_statistics/2_median.ipynb)"
   ]
  }
 ],
 "metadata": {
  "kernelspec": {
   "display_name": "Python 3",
   "language": "python",
   "name": "python3"
  },
  "language_info": {
   "codemirror_mode": {
    "name": "ipython",
    "version": 3
   },
   "file_extension": ".py",
   "mimetype": "text/x-python",
   "name": "python",
   "nbconvert_exporter": "python",
   "pygments_lexer": "ipython3",
   "version": "3.9.4"
  }
 },
 "nbformat": 4,
 "nbformat_minor": 5
}
