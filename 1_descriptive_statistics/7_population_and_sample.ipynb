{
 "cells": [
  {
   "cell_type": "markdown",
   "id": "c3fa7cd5",
   "metadata": {},
   "source": [
    "## Population\n",
    "\n",
    "Population represents the data for all members of a given group you're analysing.\n",
    "\n",
    "## Sample\n",
    "\n",
    "Sample represents the data for some members of a given group, usually randomly selected.\n",
    "\n",
    "\n",
    "Imagine that you're analysing the grades for a statistics class of 40 students. The population would be all the 40 students grades and the sample would be a slice of this population, e.g., 12, 40, 34, etc. The sample is representative of the population.\n",
    "Usually when we're working with samples we're always refering to measures of estimates from the population, i. e., we can calculate the mean, standard deviation, etc. of a sample infering that the value for the population would or should be close to the sample value.\n",
    "The basic idea around this distinction is that you'd use the sample to generalise and make assumptions about the population data.\n",
    "\n",
    "\n",
    "### Should I use the population data or select a sample from the population?\n",
    "\n",
    "It depends. If the population size is not huge, or it's possible to have data for the whole population then the population data can be used. For example, the number os students in a specific class, the salaries of employees in the tech department of a specific company, etc.\n",
    "\n",
    "If the population size is too big or can't be collected completely then we have to use a sample from it, for example, the average salary or men and women in the last year. Can you collect the data of every single man and woman in the world to calculate the mean? No, that would be too expensive and even if you could the computacional processing you'd need to make operations in this huge dataset would be enormous. It's not really feasible.\n",
    "\n",
    "\n",
    "## 🐍 Python"
   ]
  },
  {
   "cell_type": "code",
   "execution_count": 13,
   "id": "e04e873d",
   "metadata": {},
   "outputs": [
    {
     "name": "stdout",
     "output_type": "stream",
     "text": [
      "The population is: [37 95 73 59 15 15  5 86 60 70  2 96 83 21 18 18 30 52 43 29 61 13 29 36\n",
      " 45 78 19 51 59  4 60 17  6 94 96 80 30  9 68 44 12 49  3 90 25 66 31 52\n",
      " 54 18 96 77 93 89 59 92  8 19  4 32 38 27 82 35 28 54 14 80  7 98 77 19\n",
      "  0 81 70 72 77  7 35 11 86 62 33  6 31 32 72 63 88 47 11 71 76 56 77 49\n",
      " 52 42  2 10] and has 100 datapoints\n",
      "The sample is: [94  5 11 32 21 86 61 88 70 70 31 13 47 18 14 44 52 18  6 45] and has 20 datapoints randomly selected\n"
     ]
    }
   ],
   "source": [
    "import numpy as np\n",
    "np.random.seed(42)\n",
    "population = (np.random.random(size=100) * 100).astype(int)\n",
    "sample = np.random.choice(population, 20, replace=False)\n",
    "\n",
    "print(f\"The population is: {population} and has {population.size} datapoints\")\n",
    "\n",
    "print(f\"The sample is: {sample} and has {sample.size} datapoints randomly selected\")"
   ]
  },
  {
   "cell_type": "markdown",
   "id": "8fd9cbe0",
   "metadata": {},
   "source": [
    "## Symbols\n",
    "\n",
    "When refering to population and sample values like mean, standard deviation, etc. there are symbols that are used to refer to them in mathematical notation. Unfortunately there is no consensus of which sumbols should be used so I'm gonna share some of the most used, but you should understand what's happening by the context even if the symbol is different from the on you're used to.\n",
    "\n",
    "|                    | Population parameters | Sample estimates |\n",
    "|--------------------|-----------------------|------------------|\n",
    "| Mean               | $ \\mu $                     | $ \\bar{x} $ or $ \\hat{\\mu} $                |\n",
    "| Beta coefficient   | $ \\beta $                     | $ \\beta  $ or $ \\hat{\\beta } $                 |\n",
    "| Standard deviation | $ \\sigma $                     | $ s  $ or $ \\hat{\\sigma } $                |\n",
    "| Variance           | $ {\\sigma}^2 $                      |  $ {s}^2  $ or $ {\\hat{\\sigma }}^2 $                |\n"
   ]
  },
  {
   "cell_type": "markdown",
   "id": "b36c5ff1",
   "metadata": {},
   "source": [
    "## 📒 Notebook\n",
    "The link for the notebook can be found [here](https://github.com/nathanqueija/statistics/blob/master/1_descriptive_statistics/7_population_and_sample.ipynb)"
   ]
  }
 ],
 "metadata": {
  "kernelspec": {
   "display_name": "Python 3",
   "language": "python",
   "name": "python3"
  },
  "language_info": {
   "codemirror_mode": {
    "name": "ipython",
    "version": 3
   },
   "file_extension": ".py",
   "mimetype": "text/x-python",
   "name": "python",
   "nbconvert_exporter": "python",
   "pygments_lexer": "ipython3",
   "version": "3.9.4"
  }
 },
 "nbformat": 4,
 "nbformat_minor": 5
}
