{
 "cells": [
  {
   "cell_type": "markdown",
   "id": "c3fa7cd5",
   "metadata": {},
   "source": [
    "# Mean\n",
    "\n",
    "Mean is a measure fo central tendency. It's usually know as average, but in mathematical terms you'd recognize it as mean, also because there are different types of means that can be calculated. For the sake of simpliciclity I'll approach mean here with the same meaning as the average of a dataset.\n",
    "    \n",
    "In order to illustrate the concept of mean I'll use the following dataset:\n",
    "\n",
    "[9, 5, 8, 10, 7]\n",
    "\n",
    "Imagine that this dataset represents the grades of all the students in a class of statistics. The grades can range from 0 to 10.\n",
    "\n",
    "How can we calculate the center of this data? What is the average grade of this class?\n",
    "\n",
    "The mean is calculated by the sum of all observation divided by the number of observations. \n",
    "\n",
    "#### Sample\n",
    "\n",
    "$$ \\bar{x} = \\frac{1}{n}\\left (\\sum_{i=1}^n{x_i}\\right ) = \\frac{x_1+x_2+\\cdots +x_n}{n} $$\n",
    "\n",
    "where:\n",
    "- ${n}$ is the number os observations or size of the dataset\n",
    "- $ \\bar{x} $ is the mean of the dataset\n",
    "\n",
    "#### Population\n",
    "\n",
    "$$ \\mu = \\frac{1}{N}\\left (\\sum_{i=1}^N{x_i}\\right ) = \\frac{x_1+x_2+\\cdots +x_N}{N} $$\n",
    "\n",
    "where:\n",
    "- ${N}$ is the number os observations or size of the dataset\n",
    "- $ \\mu $ is the mean of the dataset\n",
    "\n",
    "\n",
    "## 🐍 Python"
   ]
  },
  {
   "cell_type": "code",
   "execution_count": 8,
   "id": "f88ed1ea",
   "metadata": {},
   "outputs": [
    {
     "name": "stdout",
     "output_type": "stream",
     "text": [
      "The mean or the average grade for this class is: 7.8\n"
     ]
    }
   ],
   "source": [
    "dataset = [9,5,8,10,7]\n",
    "n = len(dataset)\n",
    "mean = sum(dataset) / n\n",
    "print(f\"The mean or the average grade for this class is: {mean}\")"
   ]
  },
  {
   "cell_type": "markdown",
   "id": "d4f1d260",
   "metadata": {},
   "source": [
    "## 📚 Libraries"
   ]
  },
  {
   "cell_type": "code",
   "execution_count": 14,
   "id": "a780d801",
   "metadata": {},
   "outputs": [
    {
     "name": "stdout",
     "output_type": "stream",
     "text": [
      "The mean or the average grade for this class is: 7.8\n"
     ]
    }
   ],
   "source": [
    "import numpy as np\n",
    "mean_np = np.mean(dataset)\n",
    "print(f\"The mean or the average grade for this class is: {mean_np}\")"
   ]
  }
 ],
 "metadata": {
  "kernelspec": {
   "display_name": "Python 3",
   "language": "python",
   "name": "python3"
  },
  "language_info": {
   "codemirror_mode": {
    "name": "ipython",
    "version": 3
   },
   "file_extension": ".py",
   "mimetype": "text/x-python",
   "name": "python",
   "nbconvert_exporter": "python",
   "pygments_lexer": "ipython3",
   "version": "3.9.4"
  }
 },
 "nbformat": 4,
 "nbformat_minor": 5
}
